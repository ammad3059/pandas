{
 "cells": [
  {
   "cell_type": "code",
   "execution_count": 1,
   "metadata": {},
   "outputs": [],
   "source": [
    "import tensorflow as tf\n",
    "import numpy as np\n",
    "import matplotlib.pyplot as plt\n",
    "import cv2\n",
    "import os"
   ]
  },
  {
   "cell_type": "code",
   "execution_count": 2,
   "metadata": {},
   "outputs": [],
   "source": [
    "training_data=[]"
   ]
  },
  {
   "cell_type": "code",
   "execution_count": 3,
   "metadata": {},
   "outputs": [],
   "source": [
    "def create_training_data():\n",
    "    datadir='C:\\works\\kagglecatsanddogs\\PetImages'\n",
    "    categories=['Cat','Dog']\n",
    "    for category in categories:\n",
    "        path=os.path.join(datadir,category)\n",
    "        classes=categories.index(category)\n",
    "        for img in os.listdir(path):\n",
    "            try:\n",
    "                img_arr=cv2.imread(os.path.join(path,img),cv2.IMREAD_GRAYSCALE)\n",
    "                new_arr=cv2.resize(img_arr,(70,70))\n",
    "                training_data.append([new_arr,classes])\n",
    "            except Exception as e:\n",
    "                pass"
   ]
  },
  {
   "cell_type": "code",
   "execution_count": 4,
   "metadata": {},
   "outputs": [],
   "source": [
    "create_training_data()"
   ]
  },
  {
   "cell_type": "code",
   "execution_count": 5,
   "metadata": {},
   "outputs": [
    {
     "name": "stdout",
     "output_type": "stream",
     "text": [
      "24946\n"
     ]
    }
   ],
   "source": [
    "print(len(training_data))"
   ]
  },
  {
   "cell_type": "code",
   "execution_count": 6,
   "metadata": {},
   "outputs": [
    {
     "data": {
      "text/plain": [
       "[array([[177, 177, 177, ..., 184, 183, 185],\n",
       "        [177, 179, 178, ..., 185, 186, 191],\n",
       "        [177, 178, 178, ..., 186, 187, 192],\n",
       "        ...,\n",
       "        [113, 124, 151, ..., 150, 146, 135],\n",
       "        [114, 121, 126, ..., 116, 173, 168],\n",
       "        [123, 138, 141, ..., 149, 157, 161]], dtype=uint8),\n",
       " 0]"
      ]
     },
     "execution_count": 6,
     "metadata": {},
     "output_type": "execute_result"
    }
   ],
   "source": [
    "training_data[12]"
   ]
  },
  {
   "cell_type": "code",
   "execution_count": 7,
   "metadata": {},
   "outputs": [],
   "source": [
    "import random\n",
    "random.shuffle(training_data)"
   ]
  },
  {
   "cell_type": "code",
   "execution_count": 8,
   "metadata": {},
   "outputs": [],
   "source": [
    "x_train=[]\n",
    "y_train=[]\n",
    "for feature,label in training_data:\n",
    "    x_train.append(feature)\n",
    "    y_train.append(label)"
   ]
  },
  {
   "cell_type": "code",
   "execution_count": 9,
   "metadata": {},
   "outputs": [],
   "source": [
    "train_data=np.array(x_train)"
   ]
  },
  {
   "cell_type": "code",
   "execution_count": 10,
   "metadata": {},
   "outputs": [],
   "source": [
    "from tensorflow.keras.utils import normalize\n",
    "from tensorflow.keras import models,layers"
   ]
  },
  {
   "cell_type": "code",
   "execution_count": 11,
   "metadata": {},
   "outputs": [],
   "source": [
    "train_data=normalize(train_data,axis=1)"
   ]
  },
  {
   "cell_type": "code",
   "execution_count": 12,
   "metadata": {},
   "outputs": [
    {
     "data": {
      "text/plain": [
       "array([[0.03788983, 0.04714161, 0.04388849, ..., 0.12388033, 0.11638311,\n",
       "        0.10938394],\n",
       "       [0.13161729, 0.12987994, 0.09991634, ..., 0.12388033, 0.11638311,\n",
       "        0.10938394],\n",
       "       [0.1505622 , 0.13757653, 0.10551913, ..., 0.12388033, 0.11638311,\n",
       "        0.10772661],\n",
       "       ...,\n",
       "       [0.03390142, 0.0182794 , 0.01774215, ..., 0.07824021, 0.06612677,\n",
       "        0.06297863],\n",
       "       [0.01994201, 0.02308977, 0.02801393, ..., 0.06333731, 0.05554649,\n",
       "        0.05552064],\n",
       "       [0.01794781, 0.02597599, 0.03361671, ..., 0.05774872, 0.05290141,\n",
       "        0.04474798]])"
      ]
     },
     "execution_count": 12,
     "metadata": {},
     "output_type": "execute_result"
    }
   ],
   "source": [
    "train_data[12]"
   ]
  },
  {
   "cell_type": "code",
   "execution_count": 13,
   "metadata": {},
   "outputs": [
    {
     "data": {
      "text/plain": [
       "(24946, 70, 70)"
      ]
     },
     "execution_count": 13,
     "metadata": {},
     "output_type": "execute_result"
    }
   ],
   "source": [
    "train_data.shape"
   ]
  },
  {
   "cell_type": "code",
   "execution_count": 14,
   "metadata": {},
   "outputs": [],
   "source": [
    "f_train_data=train_data.reshape(train_data.shape[0],70,70,1)"
   ]
  },
  {
   "cell_type": "code",
   "execution_count": 15,
   "metadata": {},
   "outputs": [],
   "source": [
    "y_train=np.array(y_train)"
   ]
  },
  {
   "cell_type": "code",
   "execution_count": 16,
   "metadata": {},
   "outputs": [
    {
     "name": "stdout",
     "output_type": "stream",
     "text": [
      "1\n"
     ]
    }
   ],
   "source": [
    "print(y_train[24000])"
   ]
  },
  {
   "cell_type": "code",
   "execution_count": 20,
   "metadata": {},
   "outputs": [],
   "source": [
    "model=models.Sequential()\n",
    "model.add(layers.Conv2D(64,(3,3),activation='relu',input_shape=(70,70,1)))\n",
    "model.add(layers.MaxPooling2D(pool_size=(2,2)))\n",
    "model.add(layers.Conv2D(64,(3,3),activation='relu'))\n",
    "model.add(layers.MaxPooling2D(pool_size=(2,2)))\n",
    "model.add(layers.Flatten())\n",
    "model.add(layers.Dense(512,activation='relu'))\n",
    "model.add(layers.Dense(1,activation='sigmoid'))"
   ]
  },
  {
   "cell_type": "code",
   "execution_count": 21,
   "metadata": {},
   "outputs": [],
   "source": [
    "model.compile(optimizer='adam',loss='binary_crossentropy',metrics=['accuracy'])"
   ]
  },
  {
   "cell_type": "code",
   "execution_count": 22,
   "metadata": {},
   "outputs": [
    {
     "name": "stdout",
     "output_type": "stream",
     "text": [
      "Epoch 1/5\n",
      "998/998 [==============================] - 243s 243ms/step - loss: 0.6207 - accuracy: 0.6530 - val_loss: 0.5873 - val_accuracy: 0.6840\n",
      "Epoch 2/5\n",
      "998/998 [==============================] - 267s 268ms/step - loss: 0.5124 - accuracy: 0.7507 - val_loss: 0.5065 - val_accuracy: 0.7627\n",
      "Epoch 3/5\n",
      "998/998 [==============================] - 258s 258ms/step - loss: 0.4542 - accuracy: 0.7861 - val_loss: 0.4796 - val_accuracy: 0.7713\n",
      "Epoch 4/5\n",
      "998/998 [==============================] - 256s 257ms/step - loss: 0.4004 - accuracy: 0.8155 - val_loss: 0.4914 - val_accuracy: 0.7685\n",
      "Epoch 5/5\n",
      "998/998 [==============================] - 239s 240ms/step - loss: 0.3309 - accuracy: 0.8558 - val_loss: 0.5221 - val_accuracy: 0.7739\n"
     ]
    },
    {
     "data": {
      "text/plain": [
       "<tensorflow.python.keras.callbacks.History at 0x2b957db21c0>"
      ]
     },
     "execution_count": 22,
     "metadata": {},
     "output_type": "execute_result"
    }
   ],
   "source": [
    "model.fit(f_train_data,y_train,epochs=5,validation_split=0.2,batch_size=20)"
   ]
  },
  {
   "cell_type": "code",
   "execution_count": null,
   "metadata": {},
   "outputs": [],
   "source": []
  }
 ],
 "metadata": {
  "kernelspec": {
   "display_name": "Python 3",
   "language": "python",
   "name": "python3"
  },
  "language_info": {
   "codemirror_mode": {
    "name": "ipython",
    "version": 3
   },
   "file_extension": ".py",
   "mimetype": "text/x-python",
   "name": "python",
   "nbconvert_exporter": "python",
   "pygments_lexer": "ipython3",
   "version": "3.8.3"
  }
 },
 "nbformat": 4,
 "nbformat_minor": 4
}
