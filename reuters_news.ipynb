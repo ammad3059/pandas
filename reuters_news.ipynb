{
  "nbformat": 4,
  "nbformat_minor": 0,
  "metadata": {
    "colab": {
      "name": "reuters_news.ipynb",
      "provenance": [],
      "collapsed_sections": [],
      "authorship_tag": "ABX9TyNM7AHEu8C1gliNbCIU8AlV",
      "include_colab_link": true
    },
    "kernelspec": {
      "name": "python3",
      "display_name": "Python 3"
    }
  },
  "cells": [
    {
      "cell_type": "markdown",
      "metadata": {
        "id": "view-in-github",
        "colab_type": "text"
      },
      "source": [
        "<a href=\"https://colab.research.google.com/github/ammad3059/pandas/blob/master/reuters_news.ipynb\" target=\"_parent\"><img src=\"https://colab.research.google.com/assets/colab-badge.svg\" alt=\"Open In Colab\"/></a>"
      ]
    },
    {
      "cell_type": "markdown",
      "metadata": {
        "id": "jrpzZhjaXkp9"
      },
      "source": [
        "Working on reuters news keras dataset"
      ]
    },
    {
      "cell_type": "code",
      "metadata": {
        "id": "iJCAOHI4ya9_"
      },
      "source": [
        "import tensorflow as tf\n",
        "from tensorflow.keras.datasets import reuters"
      ],
      "execution_count": 1,
      "outputs": []
    },
    {
      "cell_type": "code",
      "metadata": {
        "id": "aDcsaIbyYovw",
        "outputId": "0542a138-fd5a-4717-86a6-4ef84d9b6edb",
        "colab": {
          "base_uri": "https://localhost:8080/",
          "height": 51
        }
      },
      "source": [
        "(train_word,train_label),(test_word,test_label)=reuters.load_data(num_words=10000)"
      ],
      "execution_count": 3,
      "outputs": [
        {
          "output_type": "stream",
          "text": [
            "Downloading data from https://storage.googleapis.com/tensorflow/tf-keras-datasets/reuters.npz\n",
            "2113536/2110848 [==============================] - 0s 0us/step\n"
          ],
          "name": "stdout"
        }
      ]
    },
    {
      "cell_type": "code",
      "metadata": {
        "id": "XmmaZmUQZA5E",
        "outputId": "c543bf40-6258-4db6-bdd9-fbf2837cebbf",
        "colab": {
          "base_uri": "https://localhost:8080/",
          "height": 34
        }
      },
      "source": [
        "train_word.shape"
      ],
      "execution_count": 4,
      "outputs": [
        {
          "output_type": "execute_result",
          "data": {
            "text/plain": [
              "(8982,)"
            ]
          },
          "metadata": {
            "tags": []
          },
          "execution_count": 4
        }
      ]
    },
    {
      "cell_type": "code",
      "metadata": {
        "id": "z-4uDyuSZSsj",
        "outputId": "7bc8ee9f-10f4-48a3-876c-b86bec5ba946",
        "colab": {
          "base_uri": "https://localhost:8080/",
          "height": 34
        }
      },
      "source": [
        "test_label.shape"
      ],
      "execution_count": 5,
      "outputs": [
        {
          "output_type": "execute_result",
          "data": {
            "text/plain": [
              "(2246,)"
            ]
          },
          "metadata": {
            "tags": []
          },
          "execution_count": 5
        }
      ]
    },
    {
      "cell_type": "code",
      "metadata": {
        "id": "zlo-C5wRZWXm",
        "outputId": "aea93c59-c07d-458e-bf9e-fb866d7a7bf6",
        "colab": {
          "base_uri": "https://localhost:8080/",
          "height": 969
        }
      },
      "source": [
        "train_word[1]"
      ],
      "execution_count": 6,
      "outputs": [
        {
          "output_type": "execute_result",
          "data": {
            "text/plain": [
              "[1,\n",
              " 3267,\n",
              " 699,\n",
              " 3434,\n",
              " 2295,\n",
              " 56,\n",
              " 2,\n",
              " 7511,\n",
              " 9,\n",
              " 56,\n",
              " 3906,\n",
              " 1073,\n",
              " 81,\n",
              " 5,\n",
              " 1198,\n",
              " 57,\n",
              " 366,\n",
              " 737,\n",
              " 132,\n",
              " 20,\n",
              " 4093,\n",
              " 7,\n",
              " 2,\n",
              " 49,\n",
              " 2295,\n",
              " 2,\n",
              " 1037,\n",
              " 3267,\n",
              " 699,\n",
              " 3434,\n",
              " 8,\n",
              " 7,\n",
              " 10,\n",
              " 241,\n",
              " 16,\n",
              " 855,\n",
              " 129,\n",
              " 231,\n",
              " 783,\n",
              " 5,\n",
              " 4,\n",
              " 587,\n",
              " 2295,\n",
              " 2,\n",
              " 2,\n",
              " 775,\n",
              " 7,\n",
              " 48,\n",
              " 34,\n",
              " 191,\n",
              " 44,\n",
              " 35,\n",
              " 1795,\n",
              " 505,\n",
              " 17,\n",
              " 12]"
            ]
          },
          "metadata": {
            "tags": []
          },
          "execution_count": 6
        }
      ]
    },
    {
      "cell_type": "markdown",
      "metadata": {
        "id": "MxshFSIAh0v3"
      },
      "source": [
        "vectorizing data"
      ]
    },
    {
      "cell_type": "code",
      "metadata": {
        "id": "3xbvgvS5ZmAd"
      },
      "source": [
        "import numpy as np\n",
        "def vectorize_sequences(sequences, dimension=10000):\n",
        "    results = np.zeros((len(sequences),dimension))\n",
        "    for i,sequence in enumerate(sequences):\n",
        "        results[i,sequence] = 1\n",
        "    return results\n",
        "\n",
        "x_train = vectorize_sequences(train_word)\n",
        "x_test = vectorize_sequences(test_word)"
      ],
      "execution_count": 13,
      "outputs": []
    },
    {
      "cell_type": "markdown",
      "metadata": {
        "id": "kzxXKbdgh8Bp"
      },
      "source": [
        "vectorizing label"
      ]
    },
    {
      "cell_type": "code",
      "metadata": {
        "id": "JDEGkyogbUDN"
      },
      "source": [
        "from tensorflow.keras.utils import to_categorical\n",
        "\n",
        "one_hot_train_labels = to_categorical(train_label)\n",
        "one_hot_test_labels = to_categorical(test_label)"
      ],
      "execution_count": 14,
      "outputs": []
    },
    {
      "cell_type": "markdown",
      "metadata": {
        "id": "YGMoUosOiWbx"
      },
      "source": [
        "Building the network"
      ]
    },
    {
      "cell_type": "code",
      "metadata": {
        "id": "fFJ3YxbnbZdL"
      },
      "source": [
        "from keras import models\n",
        "from keras import layers\n",
        "\n",
        "model = models.Sequential()\n",
        "model.add(layers.Dense(64, activation='relu', input_shape=(10000,)))\n",
        "model.add(layers.Dense(64, activation='relu'))\n",
        "model.add(layers.Dense(46, activation='softmax'))\n",
        "\n",
        "model.compile(optimizer='rmsprop',\n",
        "              loss='categorical_crossentropy',\n",
        "              metrics=['accuracy'])"
      ],
      "execution_count": 15,
      "outputs": []
    },
    {
      "cell_type": "markdown",
      "metadata": {
        "id": "odgPlYZkivZl"
      },
      "source": [
        "making data for validation"
      ]
    },
    {
      "cell_type": "code",
      "metadata": {
        "id": "eWRhYBYtcy7g"
      },
      "source": [
        "x_val = x_train[:1000]\n",
        "partial_x_train = x_train[1000:]\n",
        "\n",
        "y_val = one_hot_train_labels[:1000]\n",
        "partial_y_train = one_hot_train_labels[1000:]"
      ],
      "execution_count": 16,
      "outputs": []
    },
    {
      "cell_type": "code",
      "metadata": {
        "id": "PSBASOIdjAWn",
        "outputId": "6d4b6a3f-2f50-496f-b5a9-728e81bbefe2",
        "colab": {
          "base_uri": "https://localhost:8080/",
          "height": 714
        }
      },
      "source": [
        "model.fit(partial_x_train,\n",
        "                    partial_y_train,\n",
        "                    epochs=20,\n",
        "                    batch_size=512,\n",
        "                    validation_data=(x_val,y_val))\n"
      ],
      "execution_count": 17,
      "outputs": [
        {
          "output_type": "stream",
          "text": [
            "Epoch 1/20\n",
            "16/16 [==============================] - 1s 56ms/step - loss: 2.5776 - accuracy: 0.5143 - val_loss: 1.6890 - val_accuracy: 0.6450\n",
            "Epoch 2/20\n",
            "16/16 [==============================] - 1s 44ms/step - loss: 1.3965 - accuracy: 0.7021 - val_loss: 1.2999 - val_accuracy: 0.7150\n",
            "Epoch 3/20\n",
            "16/16 [==============================] - 1s 42ms/step - loss: 1.0424 - accuracy: 0.7774 - val_loss: 1.1494 - val_accuracy: 0.7410\n",
            "Epoch 4/20\n",
            "16/16 [==============================] - 1s 42ms/step - loss: 0.8289 - accuracy: 0.8246 - val_loss: 1.0341 - val_accuracy: 0.7850\n",
            "Epoch 5/20\n",
            "16/16 [==============================] - 1s 43ms/step - loss: 0.6589 - accuracy: 0.8614 - val_loss: 0.9767 - val_accuracy: 0.7860\n",
            "Epoch 6/20\n",
            "16/16 [==============================] - 1s 43ms/step - loss: 0.5250 - accuracy: 0.8885 - val_loss: 0.9158 - val_accuracy: 0.8160\n",
            "Epoch 7/20\n",
            "16/16 [==============================] - 1s 42ms/step - loss: 0.4224 - accuracy: 0.9110 - val_loss: 0.8894 - val_accuracy: 0.8150\n",
            "Epoch 8/20\n",
            "16/16 [==============================] - 1s 42ms/step - loss: 0.3436 - accuracy: 0.9275 - val_loss: 0.8953 - val_accuracy: 0.8140\n",
            "Epoch 9/20\n",
            "16/16 [==============================] - 1s 43ms/step - loss: 0.2839 - accuracy: 0.9391 - val_loss: 0.9181 - val_accuracy: 0.8050\n",
            "Epoch 10/20\n",
            "16/16 [==============================] - 1s 43ms/step - loss: 0.2404 - accuracy: 0.9444 - val_loss: 0.8920 - val_accuracy: 0.8190\n",
            "Epoch 11/20\n",
            "16/16 [==============================] - 1s 42ms/step - loss: 0.2067 - accuracy: 0.9484 - val_loss: 0.9020 - val_accuracy: 0.8170\n",
            "Epoch 12/20\n",
            "16/16 [==============================] - 1s 43ms/step - loss: 0.1841 - accuracy: 0.9510 - val_loss: 0.9640 - val_accuracy: 0.7960\n",
            "Epoch 13/20\n",
            "16/16 [==============================] - 1s 43ms/step - loss: 0.1657 - accuracy: 0.9539 - val_loss: 0.9403 - val_accuracy: 0.8120\n",
            "Epoch 14/20\n",
            "16/16 [==============================] - 1s 42ms/step - loss: 0.1491 - accuracy: 0.9553 - val_loss: 0.9524 - val_accuracy: 0.8220\n",
            "Epoch 15/20\n",
            "16/16 [==============================] - 1s 42ms/step - loss: 0.1413 - accuracy: 0.9548 - val_loss: 0.9697 - val_accuracy: 0.8110\n",
            "Epoch 16/20\n",
            "16/16 [==============================] - 1s 43ms/step - loss: 0.1314 - accuracy: 0.9580 - val_loss: 1.0062 - val_accuracy: 0.7990\n",
            "Epoch 17/20\n",
            "16/16 [==============================] - 1s 45ms/step - loss: 0.1271 - accuracy: 0.9554 - val_loss: 0.9895 - val_accuracy: 0.8160\n",
            "Epoch 18/20\n",
            "16/16 [==============================] - 1s 42ms/step - loss: 0.1180 - accuracy: 0.9568 - val_loss: 1.0520 - val_accuracy: 0.8070\n",
            "Epoch 19/20\n",
            "16/16 [==============================] - 1s 42ms/step - loss: 0.1148 - accuracy: 0.9584 - val_loss: 1.0443 - val_accuracy: 0.8070\n",
            "Epoch 20/20\n",
            "16/16 [==============================] - 1s 43ms/step - loss: 0.1141 - accuracy: 0.9585 - val_loss: 1.0980 - val_accuracy: 0.8020\n"
          ],
          "name": "stdout"
        },
        {
          "output_type": "execute_result",
          "data": {
            "text/plain": [
              "<tensorflow.python.keras.callbacks.History at 0x7fa7a467cb38>"
            ]
          },
          "metadata": {
            "tags": []
          },
          "execution_count": 17
        }
      ]
    },
    {
      "cell_type": "code",
      "metadata": {
        "id": "P9mD_Q3ijFy5",
        "outputId": "4cacddb9-424c-4ebb-f777-e17b718dc495",
        "colab": {
          "base_uri": "https://localhost:8080/",
          "height": 34
        }
      },
      "source": [
        "loss,acc=model.evaluate(x_test,one_hot_test_labels)"
      ],
      "execution_count": 18,
      "outputs": [
        {
          "output_type": "stream",
          "text": [
            "71/71 [==============================] - 0s 2ms/step - loss: 1.2706 - accuracy: 0.7760\n"
          ],
          "name": "stdout"
        }
      ]
    },
    {
      "cell_type": "code",
      "metadata": {
        "id": "rT4_zpAikI1B"
      },
      "source": [
        ""
      ],
      "execution_count": null,
      "outputs": []
    }
  ]
}