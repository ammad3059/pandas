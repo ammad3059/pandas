{
  "nbformat": 4,
  "nbformat_minor": 0,
  "metadata": {
    "colab": {
      "name": "mnist using CNN and DNN.ipynb",
      "provenance": [],
      "collapsed_sections": [],
      "authorship_tag": "ABX9TyN18gdXwWOo1oTzCrXdau+r",
      "include_colab_link": true
    },
    "kernelspec": {
      "name": "python3",
      "display_name": "Python 3"
    }
  },
  "cells": [
    {
      "cell_type": "markdown",
      "metadata": {
        "id": "view-in-github",
        "colab_type": "text"
      },
      "source": [
        "<a href=\"https://colab.research.google.com/github/ammad3059/pandas/blob/master/mnist_using_CNN_and_DNN.ipynb\" target=\"_parent\"><img src=\"https://colab.research.google.com/assets/colab-badge.svg\" alt=\"Open In Colab\"/></a>"
      ]
    },
    {
      "cell_type": "markdown",
      "metadata": {
        "id": "_UbTgoYyPYbR",
        "colab_type": "text"
      },
      "source": [
        "Working on mnist dataset"
      ]
    },
    {
      "cell_type": "code",
      "metadata": {
        "id": "YM0nAXvrPVkY",
        "colab_type": "code",
        "colab": {}
      },
      "source": [
        "import numpy as np\n",
        "import tensorflow as tf\n",
        "import matplotlib.pyplot as plt\n"
      ],
      "execution_count": 2,
      "outputs": []
    },
    {
      "cell_type": "code",
      "metadata": {
        "id": "6PiOUa4rP6X5",
        "colab_type": "code",
        "colab": {
          "base_uri": "https://localhost:8080/",
          "height": 34
        },
        "outputId": "6665dc29-7ac1-4abd-f4c0-b7fc74b53814"
      },
      "source": [
        "print(tf.__version__)"
      ],
      "execution_count": 3,
      "outputs": [
        {
          "output_type": "stream",
          "text": [
            "2.3.0\n"
          ],
          "name": "stdout"
        }
      ]
    },
    {
      "cell_type": "code",
      "metadata": {
        "id": "_be7_EuyQJt_",
        "colab_type": "code",
        "colab": {}
      },
      "source": [
        "from tensorflow.keras.datasets import mnist\n",
        "from tensorflow.keras import models,layers"
      ],
      "execution_count": 5,
      "outputs": []
    },
    {
      "cell_type": "code",
      "metadata": {
        "id": "mlqvJiVPQhp9",
        "colab_type": "code",
        "colab": {
          "base_uri": "https://localhost:8080/",
          "height": 51
        },
        "outputId": "c562ed55-06bf-4f9e-8023-92178f2e0cf3"
      },
      "source": [
        "(train_img,train_lbl),(test_img,test_lbl)=mnist.load_data()"
      ],
      "execution_count": 6,
      "outputs": [
        {
          "output_type": "stream",
          "text": [
            "Downloading data from https://storage.googleapis.com/tensorflow/tf-keras-datasets/mnist.npz\n",
            "11493376/11490434 [==============================] - 0s 0us/step\n"
          ],
          "name": "stdout"
        }
      ]
    },
    {
      "cell_type": "code",
      "metadata": {
        "id": "dBiiryfRQz7t",
        "colab_type": "code",
        "colab": {
          "base_uri": "https://localhost:8080/",
          "height": 34
        },
        "outputId": "1c245ff1-10b4-4ead-cdd1-2808a15be328"
      },
      "source": [
        "train_img.shape"
      ],
      "execution_count": 7,
      "outputs": [
        {
          "output_type": "execute_result",
          "data": {
            "text/plain": [
              "(60000, 28, 28)"
            ]
          },
          "metadata": {
            "tags": []
          },
          "execution_count": 7
        }
      ]
    },
    {
      "cell_type": "code",
      "metadata": {
        "id": "L0hQF4iQQ5Tt",
        "colab_type": "code",
        "colab": {
          "base_uri": "https://localhost:8080/",
          "height": 34
        },
        "outputId": "94f91a5d-a2d9-4700-bc02-9bc503745c36"
      },
      "source": [
        "test_img.shape"
      ],
      "execution_count": 8,
      "outputs": [
        {
          "output_type": "execute_result",
          "data": {
            "text/plain": [
              "(10000, 28, 28)"
            ]
          },
          "metadata": {
            "tags": []
          },
          "execution_count": 8
        }
      ]
    },
    {
      "cell_type": "code",
      "metadata": {
        "id": "Sio-VcDFeDdl",
        "colab_type": "code",
        "colab": {
          "base_uri": "https://localhost:8080/",
          "height": 34
        },
        "outputId": "e57abda0-15f9-4176-a593-b800d3366356"
      },
      "source": [
        "train_img.shape[0]"
      ],
      "execution_count": 50,
      "outputs": [
        {
          "output_type": "execute_result",
          "data": {
            "text/plain": [
              "60000"
            ]
          },
          "metadata": {
            "tags": []
          },
          "execution_count": 50
        }
      ]
    },
    {
      "cell_type": "code",
      "metadata": {
        "id": "d3iiM1hPQ979",
        "colab_type": "code",
        "colab": {}
      },
      "source": [
        "from tensorflow.keras.utils import normalize"
      ],
      "execution_count": 9,
      "outputs": []
    },
    {
      "cell_type": "code",
      "metadata": {
        "id": "nTIrfq9rRtDa",
        "colab_type": "code",
        "colab": {}
      },
      "source": [
        "train_img=normalize(train_img,axis=1)\n",
        "test_img=normalize(test_img,axis=1)"
      ],
      "execution_count": 10,
      "outputs": []
    },
    {
      "cell_type": "code",
      "metadata": {
        "id": "2n5FoW-6R8WB",
        "colab_type": "code",
        "colab": {}
      },
      "source": [
        "model=models.Sequential()\n",
        "model.add(layers.Flatten())\n",
        "model.add(layers.Dense(512,activation='relu'))\n",
        "model.add(layers.Dense(64,activation='relu'))\n",
        "model.add(layers.Dense(10,activation='softmax'))\n",
        "\n",
        "model.compile(optimizer='adam',loss='sparse_categorical_crossentropy',metrics=['acc'])"
      ],
      "execution_count": 12,
      "outputs": []
    },
    {
      "cell_type": "code",
      "metadata": {
        "id": "NgAinA1RSpTv",
        "colab_type": "code",
        "colab": {
          "base_uri": "https://localhost:8080/",
          "height": 374
        },
        "outputId": "61c392c3-4600-43b2-e924-fa2c3dbb23f1"
      },
      "source": [
        "model.fit(train_img,train_lbl,batch_size=30,epochs=10)"
      ],
      "execution_count": 13,
      "outputs": [
        {
          "output_type": "stream",
          "text": [
            "Epoch 1/10\n",
            "2000/2000 [==============================] - 10s 5ms/step - loss: 0.2168 - acc: 0.9354\n",
            "Epoch 2/10\n",
            "2000/2000 [==============================] - 11s 5ms/step - loss: 0.0862 - acc: 0.9729\n",
            "Epoch 3/10\n",
            "2000/2000 [==============================] - 12s 6ms/step - loss: 0.0538 - acc: 0.9831\n",
            "Epoch 4/10\n",
            "2000/2000 [==============================] - 11s 5ms/step - loss: 0.0388 - acc: 0.9873\n",
            "Epoch 5/10\n",
            "2000/2000 [==============================] - 11s 5ms/step - loss: 0.0287 - acc: 0.9903\n",
            "Epoch 6/10\n",
            "2000/2000 [==============================] - 10s 5ms/step - loss: 0.0210 - acc: 0.9928\n",
            "Epoch 7/10\n",
            "2000/2000 [==============================] - 10s 5ms/step - loss: 0.0187 - acc: 0.9941\n",
            "Epoch 8/10\n",
            "2000/2000 [==============================] - 10s 5ms/step - loss: 0.0165 - acc: 0.9946\n",
            "Epoch 9/10\n",
            "2000/2000 [==============================] - 10s 5ms/step - loss: 0.0136 - acc: 0.9953\n",
            "Epoch 10/10\n",
            "2000/2000 [==============================] - 10s 5ms/step - loss: 0.0122 - acc: 0.9960\n"
          ],
          "name": "stdout"
        },
        {
          "output_type": "execute_result",
          "data": {
            "text/plain": [
              "<tensorflow.python.keras.callbacks.History at 0x7fa9d25af630>"
            ]
          },
          "metadata": {
            "tags": []
          },
          "execution_count": 13
        }
      ]
    },
    {
      "cell_type": "code",
      "metadata": {
        "id": "n0Jm4fngTDsE",
        "colab_type": "code",
        "colab": {
          "base_uri": "https://localhost:8080/",
          "height": 51
        },
        "outputId": "3c0afee7-5831-4817-8eec-561b1e533f07"
      },
      "source": [
        "loss,acc=model.evaluate(test_img,test_lbl)\n",
        "print(loss,acc)"
      ],
      "execution_count": 14,
      "outputs": [
        {
          "output_type": "stream",
          "text": [
            "313/313 [==============================] - 1s 2ms/step - loss: 0.1029 - acc: 0.9776\n",
            "0.10292942821979523 0.9775999784469604\n"
          ],
          "name": "stdout"
        }
      ]
    },
    {
      "cell_type": "code",
      "metadata": {
        "id": "CQDkoDXyTpmu",
        "colab_type": "code",
        "colab": {
          "base_uri": "https://localhost:8080/",
          "height": 51
        },
        "outputId": "bdee64f6-e92a-4717-9c0c-3ef730bd0575"
      },
      "source": [
        "predictions=model.predict([test_img])"
      ],
      "execution_count": 15,
      "outputs": [
        {
          "output_type": "stream",
          "text": [
            "WARNING:tensorflow:Layers in a Sequential model should only have a single input tensor, but we receive a <class 'tuple'> input: (<tf.Tensor 'IteratorGetNext:0' shape=(None, 28, 28) dtype=float32>,)\n",
            "Consider rewriting this model with the Functional API.\n"
          ],
          "name": "stdout"
        }
      ]
    },
    {
      "cell_type": "code",
      "metadata": {
        "id": "oiWKmIGgT1gr",
        "colab_type": "code",
        "colab": {
          "base_uri": "https://localhost:8080/",
          "height": 34
        },
        "outputId": "b484ddb8-88d4-47d8-8027-1dabdb30dee5"
      },
      "source": [
        "print(np.argmax(predictions[123]))"
      ],
      "execution_count": 17,
      "outputs": [
        {
          "output_type": "stream",
          "text": [
            "6\n"
          ],
          "name": "stdout"
        }
      ]
    },
    {
      "cell_type": "code",
      "metadata": {
        "id": "vo7ACcozT8iK",
        "colab_type": "code",
        "colab": {
          "base_uri": "https://localhost:8080/",
          "height": 265
        },
        "outputId": "83282419-4e87-41b8-9f2a-1dd22ccf2d47"
      },
      "source": [
        "plt.imshow(test_img[123],cmap=plt.cm.binary)\n",
        "plt.show()"
      ],
      "execution_count": 19,
      "outputs": [
        {
          "output_type": "display_data",
          "data": {
            "image/png": "[encoded data removed]",
            "text/plain": [
              "<Figure size 432x288 with 1 Axes>"
            ]
          },
          "metadata": {
            "tags": [],
            "needs_background": "light"
          }
        }
      ]
    },
    {
      "cell_type": "markdown",
      "metadata": {
        "id": "dgU8NBHNVFDe",
        "colab_type": "text"
      },
      "source": [
        "Working on mnist dataset using convolutional layers and maxpooling"
      ]
    },
    {
      "cell_type": "code",
      "metadata": {
        "id": "o8r7J23ZdtHs",
        "colab_type": "code",
        "colab": {}
      },
      "source": [
        "img_rows=train_img[0].shape[0]\n",
        "img_cols=train_img[0].shape[1]\n",
        "\n",
        "train_img=train_img.reshape(train_img.shape[0],img_rows,img_cols,1)\n",
        "\n",
        "test_img=test_img.reshape(test_img.shape[0],img_rows,img_cols,1)"
      ],
      "execution_count": 45,
      "outputs": []
    },
    {
      "cell_type": "code",
      "metadata": {
        "id": "YGq-CNGJUrov",
        "colab_type": "code",
        "colab": {
          "base_uri": "https://localhost:8080/",
          "height": 391
        },
        "outputId": "32eeb239-b441-456e-c87d-9c78de4c5876"
      },
      "source": [
        "cmodel=models.Sequential()\n",
        "\n",
        "cmodel.add(layers.Conv2D(64,(3,3),activation='relu',input_shape=(28,28,1)))\n",
        "cmodel.add(layers.MaxPooling2D(pool_size=(2,2)))\n",
        "cmodel.add(layers.Conv2D(64,(3,3),activation='relu'))\n",
        "cmodel.add(layers.MaxPooling2D(pool_size=(2,2)))\n",
        "cmodel.add(layers.Flatten())\n",
        "cmodel.add(layers.Dense(128,activation='relu'))\n",
        "cmodel.add(layers.Dense(10,activation='softmax'))\n",
        "\n",
        "cmodel.compile(optimizer='adam',loss='sparse_categorical_crossentropy',metrics=['acc'])\n",
        "\n",
        "cmodel.summary()"
      ],
      "execution_count": 46,
      "outputs": [
        {
          "output_type": "stream",
          "text": [
            "Model: \"sequential_13\"\n",
            "_________________________________________________________________\n",
            "Layer (type)                 Output Shape              Param #   \n",
            "=================================================================\n",
            "conv2d_20 (Conv2D)           (None, 26, 26, 64)        640       \n",
            "_________________________________________________________________\n",
            "max_pooling2d_18 (MaxPooling (None, 13, 13, 64)        0         \n",
            "_________________________________________________________________\n",
            "conv2d_21 (Conv2D)           (None, 11, 11, 64)        36928     \n",
            "_________________________________________________________________\n",
            "max_pooling2d_19 (MaxPooling (None, 5, 5, 64)          0         \n",
            "_________________________________________________________________\n",
            "flatten_10 (Flatten)         (None, 1600)              0         \n",
            "_________________________________________________________________\n",
            "dense_30 (Dense)             (None, 128)               204928    \n",
            "_________________________________________________________________\n",
            "dense_31 (Dense)             (None, 10)                1290      \n",
            "=================================================================\n",
            "Total params: 243,786\n",
            "Trainable params: 243,786\n",
            "Non-trainable params: 0\n",
            "_________________________________________________________________\n"
          ],
          "name": "stdout"
        }
      ]
    },
    {
      "cell_type": "code",
      "metadata": {
        "id": "pcmMitT4XthZ",
        "colab_type": "code",
        "colab": {
          "base_uri": "https://localhost:8080/",
          "height": 136
        },
        "outputId": "5de80220-05d0-49c4-c11e-2cf9c94c6f3c"
      },
      "source": [
        "cmodel.fit(train_img,train_lbl,epochs=3,batch_size=60)"
      ],
      "execution_count": 48,
      "outputs": [
        {
          "output_type": "stream",
          "text": [
            "Epoch 1/3\n",
            "1000/1000 [==============================] - 84s 84ms/step - loss: 0.0673 - acc: 0.9796\n",
            "Epoch 2/3\n",
            "1000/1000 [==============================] - 86s 86ms/step - loss: 0.0429 - acc: 0.9867\n",
            "Epoch 3/3\n",
            "1000/1000 [==============================] - 83s 83ms/step - loss: 0.0321 - acc: 0.9902\n"
          ],
          "name": "stdout"
        },
        {
          "output_type": "execute_result",
          "data": {
            "text/plain": [
              "<tensorflow.python.keras.callbacks.History at 0x7fa9ce0456d8>"
            ]
          },
          "metadata": {
            "tags": []
          },
          "execution_count": 48
        }
      ]
    },
    {
      "cell_type": "code",
      "metadata": {
        "id": "viBHhHnTX4qM",
        "colab_type": "code",
        "colab": {}
      },
      "source": [
        ""
      ],
      "execution_count": null,
      "outputs": []
    }
  ]
}