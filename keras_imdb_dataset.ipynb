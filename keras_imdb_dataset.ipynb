{
  "nbformat": 4,
  "nbformat_minor": 0,
  "metadata": {
    "colab": {
      "name": "keras imdb dataset.ipynb",
      "provenance": [],
      "collapsed_sections": [],
      "authorship_tag": "ABX9TyORmplqAl5PR+hjzH8kpr7j",
      "include_colab_link": true
    },
    "kernelspec": {
      "name": "python3",
      "display_name": "Python 3"
    }
  },
  "cells": [
    {
      "cell_type": "markdown",
      "metadata": {
        "id": "view-in-github",
        "colab_type": "text"
      },
      "source": [
        "<a href=\"https://colab.research.google.com/github/ammad3059/pandas/blob/master/keras_imdb_dataset.ipynb\" target=\"_parent\"><img src=\"https://colab.research.google.com/assets/colab-badge.svg\" alt=\"Open In Colab\"/></a>"
      ]
    },
    {
      "cell_type": "markdown",
      "metadata": {
        "id": "Cinq0hK5CFNn"
      },
      "source": [
        "IMDB Keras dataset[A set of positive and negative reviews]"
      ]
    },
    {
      "cell_type": "code",
      "metadata": {
        "id": "9IA2HWBhCBM2"
      },
      "source": [
        "import tensorflow as tf\n",
        "import numpy as np\n",
        "from tensorflow.keras.datasets import imdb"
      ],
      "execution_count": 1,
      "outputs": []
    },
    {
      "cell_type": "code",
      "metadata": {
        "id": "UjW9ItfgFWBR",
        "outputId": "dead551f-ebb8-4abc-980b-1db886194930",
        "colab": {
          "base_uri": "https://localhost:8080/",
          "height": 51
        }
      },
      "source": [
        "(train_words,train_labels),(test_words,test_labels)=imdb.load_data(num_words=10000)"
      ],
      "execution_count": 2,
      "outputs": [
        {
          "output_type": "stream",
          "text": [
            "Downloading data from https://storage.googleapis.com/tensorflow/tf-keras-datasets/imdb.npz\n",
            "17465344/17464789 [==============================] - 0s 0us/step\n"
          ],
          "name": "stdout"
        }
      ]
    },
    {
      "cell_type": "code",
      "metadata": {
        "id": "ddDsj580Grg9",
        "outputId": "82a7847d-1a0b-4286-f884-6d0443516507",
        "colab": {
          "base_uri": "https://localhost:8080/",
          "height": 51
        }
      },
      "source": [
        "print(train_words.shape)\n",
        "print(test_words.shape)"
      ],
      "execution_count": 4,
      "outputs": [
        {
          "output_type": "stream",
          "text": [
            "(25000,)\n",
            "(25000,)\n"
          ],
          "name": "stdout"
        }
      ]
    },
    {
      "cell_type": "markdown",
      "metadata": {
        "id": "UrtWylcmF1Uw"
      },
      "source": [
        "Normalizing the data"
      ]
    },
    {
      "cell_type": "code",
      "metadata": {
        "id": "JXb9lbz-FwO5"
      },
      "source": [
        "def normalize_sequences(seq,dim=10000):\n",
        "  result=np.zeros((len(seq),dim))\n",
        "  for i,j in enumerate(seq):\n",
        "    result[i,j]=1\n",
        "  return result\n",
        "\n",
        "f_train=normalize_sequences(train_words)\n",
        "f_test=normalize_sequences(test_words)"
      ],
      "execution_count": 5,
      "outputs": []
    },
    {
      "cell_type": "code",
      "metadata": {
        "id": "_WpopM2gHNSK",
        "outputId": "7bf4a2b9-361d-46db-d670-79b8b7d28da7",
        "colab": {
          "base_uri": "https://localhost:8080/",
          "height": 51
        }
      },
      "source": [
        "print(f_train.shape)\n",
        "print(f_test.shape)"
      ],
      "execution_count": 7,
      "outputs": [
        {
          "output_type": "stream",
          "text": [
            "(25000, 10000)\n",
            "(25000, 10000)\n"
          ],
          "name": "stdout"
        }
      ]
    },
    {
      "cell_type": "markdown",
      "metadata": {
        "id": "L7jZWDQ2HbeF"
      },
      "source": [
        "Building the model"
      ]
    },
    {
      "cell_type": "code",
      "metadata": {
        "id": "HgBen4owHTEL"
      },
      "source": [
        "from tensorflow.keras import models,layers\n",
        "model=models.Sequential()\n",
        "model.add(layers.Flatten())\n",
        "model.add(layers.Dense(512,activation='relu'))\n",
        "model.add(layers.Dense(64,activation='relu'))\n",
        "model.add(layers.Dense(1,activation='sigmoid'))"
      ],
      "execution_count": 9,
      "outputs": []
    },
    {
      "cell_type": "code",
      "metadata": {
        "id": "oWIeXJmqHic5"
      },
      "source": [
        "model.compile(optimizer='adam',loss='binary_crossentropy',metrics=['accuracy'])"
      ],
      "execution_count": 10,
      "outputs": []
    },
    {
      "cell_type": "markdown",
      "metadata": {
        "id": "GMqug0RPJApG"
      },
      "source": [
        "making data for validation"
      ]
    },
    {
      "cell_type": "code",
      "metadata": {
        "id": "QEyPH3JgI_KP"
      },
      "source": [
        "vx_train=f_train[:1000]\n",
        "x_train=f_train[1000:]\n",
        "\n",
        "vy_train=train_labels[:1000]\n",
        "y_train=train_labels[1000:]"
      ],
      "execution_count": 11,
      "outputs": []
    },
    {
      "cell_type": "code",
      "metadata": {
        "id": "u4_0g936I5oX",
        "outputId": "06158419-d237-40a1-81c7-946f1e673ed5",
        "colab": {
          "base_uri": "https://localhost:8080/",
          "height": 374
        }
      },
      "source": [
        "model.fit(x_train,y_train,epochs=10,batch_size=20,validation_data=(vx_train,vy_train))"
      ],
      "execution_count": 12,
      "outputs": [
        {
          "output_type": "stream",
          "text": [
            "Epoch 1/10\n",
            "1200/1200 [==============================] - 31s 26ms/step - loss: 0.3159 - accuracy: 0.8665 - val_loss: 0.2605 - val_accuracy: 0.8860\n",
            "Epoch 2/10\n",
            "1200/1200 [==============================] - 31s 26ms/step - loss: 0.1517 - accuracy: 0.9388 - val_loss: 0.3094 - val_accuracy: 0.8960\n",
            "Epoch 3/10\n",
            "1200/1200 [==============================] - 31s 26ms/step - loss: 0.0461 - accuracy: 0.9826 - val_loss: 0.5083 - val_accuracy: 0.8790\n",
            "Epoch 4/10\n",
            "1200/1200 [==============================] - 31s 26ms/step - loss: 0.0157 - accuracy: 0.9952 - val_loss: 0.5717 - val_accuracy: 0.8830\n",
            "Epoch 5/10\n",
            "1200/1200 [==============================] - 30s 25ms/step - loss: 0.0064 - accuracy: 0.9975 - val_loss: 0.7569 - val_accuracy: 0.8760\n",
            "Epoch 6/10\n",
            "1200/1200 [==============================] - 31s 26ms/step - loss: 0.0143 - accuracy: 0.9956 - val_loss: 0.5148 - val_accuracy: 0.8880\n",
            "Epoch 7/10\n",
            "1200/1200 [==============================] - 31s 25ms/step - loss: 0.0070 - accuracy: 0.9976 - val_loss: 0.7588 - val_accuracy: 0.8770\n",
            "Epoch 8/10\n",
            "1200/1200 [==============================] - 31s 25ms/step - loss: 0.0012 - accuracy: 0.9997 - val_loss: 1.0345 - val_accuracy: 0.8790\n",
            "Epoch 9/10\n",
            "1200/1200 [==============================] - 31s 26ms/step - loss: 0.0118 - accuracy: 0.9968 - val_loss: 0.5677 - val_accuracy: 0.8840\n",
            "Epoch 10/10\n",
            "1200/1200 [==============================] - 31s 26ms/step - loss: 0.0054 - accuracy: 0.9987 - val_loss: 0.8288 - val_accuracy: 0.8760\n"
          ],
          "name": "stdout"
        },
        {
          "output_type": "execute_result",
          "data": {
            "text/plain": [
              "<tensorflow.python.keras.callbacks.History at 0x7f75c66a8668>"
            ]
          },
          "metadata": {
            "tags": []
          },
          "execution_count": 12
        }
      ]
    },
    {
      "cell_type": "code",
      "metadata": {
        "id": "MMRbFr8uKhbp",
        "outputId": "0ec2c4a7-a701-4477-e45b-398ec406ca00",
        "colab": {
          "base_uri": "https://localhost:8080/",
          "height": 34
        }
      },
      "source": [
        "loss,acc=model.evaluate(f_test,test_labels)"
      ],
      "execution_count": 13,
      "outputs": [
        {
          "output_type": "stream",
          "text": [
            "782/782 [==============================] - 8s 11ms/step - loss: 1.0223 - accuracy: 0.8633\n"
          ],
          "name": "stdout"
        }
      ]
    },
    {
      "cell_type": "code",
      "metadata": {
        "id": "EFOfj7ntMBE3",
        "outputId": "fd67d4e0-4f8b-45ec-d0b3-9075d28e6a27",
        "colab": {
          "base_uri": "https://localhost:8080/",
          "height": 34
        }
      },
      "source": [
        "print(train_labels[1]) #negative comment as it is 0"
      ],
      "execution_count": 25,
      "outputs": [
        {
          "output_type": "stream",
          "text": [
            "0\n"
          ],
          "name": "stdout"
        }
      ]
    },
    {
      "cell_type": "code",
      "metadata": {
        "id": "cHRLoGA2NmM2",
        "outputId": "b83a7edd-17d3-4914-de80-500255589ef9",
        "colab": {
          "base_uri": "https://localhost:8080/",
          "height": 54
        }
      },
      "source": [
        "index = imdb.get_word_index()\n",
        "reverse_index = dict([(value, key) for (key, value) in index.items()]) \n",
        "decoded = \" \".join( [reverse_index.get(i-3, \"#\") for i in train_words[1]] )\n",
        "print(decoded) "
      ],
      "execution_count": 26,
      "outputs": [
        {
          "output_type": "stream",
          "text": [
            "# big hair big boobs bad music and a giant safety pin these are the words to best describe this terrible movie i love cheesy horror movies and i've seen hundreds but this had got to be on of the worst ever made the plot is paper thin and ridiculous the acting is an abomination the script is completely laughable the best is the end showdown with the cop and how he worked out who the killer is it's just so damn terribly written the clothes are sickening and funny in equal # the hair is big lots of boobs # men wear those cut # shirts that show off their # sickening that men actually wore them and the music is just # trash that plays over and over again in almost every scene there is trashy music boobs and # taking away bodies and the gym still doesn't close for # all joking aside this is a truly bad film whose only charm is to look back on the disaster that was the 80's and have a good old laugh at how bad everything was back then\n"
          ],
          "name": "stdout"
        }
      ]
    },
    {
      "cell_type": "code",
      "metadata": {
        "id": "-fzXyu45N3c1"
      },
      "source": [
        ""
      ],
      "execution_count": null,
      "outputs": []
    }
  ]
}