{
  "nbformat": 4,
  "nbformat_minor": 0,
  "metadata": {
    "colab": {
      "name": "fashion_mnist DNN and CNN.ipynb",
      "provenance": [],
      "collapsed_sections": [],
      "authorship_tag": "ABX9TyPS2lnWsN+bXzzWi0Og7Ewd",
      "include_colab_link": true
    },
    "kernelspec": {
      "name": "python3",
      "display_name": "Python 3"
    }
  },
  "cells": [
    {
      "cell_type": "markdown",
      "metadata": {
        "id": "view-in-github",
        "colab_type": "text"
      },
      "source": [
        "<a href=\"https://colab.research.google.com/github/ammad3059/pandas/blob/master/fashion_mnist_DNN_and_CNN.ipynb\" target=\"_parent\"><img src=\"https://colab.research.google.com/assets/colab-badge.svg\" alt=\"Open In Colab\"/></a>"
      ]
    },
    {
      "cell_type": "markdown",
      "metadata": {
        "id": "zW-mDN6D4mW-"
      },
      "source": [
        "Working on fashion mnist dataset of keras using both DNN and CNN"
      ]
    },
    {
      "cell_type": "code",
      "metadata": {
        "id": "KNC1c-zi23T2"
      },
      "source": [
        "import tensorflow as tf\n",
        "import numpy as np\n",
        "import matplotlib.pyplot as plt"
      ],
      "execution_count": 2,
      "outputs": []
    },
    {
      "cell_type": "code",
      "metadata": {
        "id": "sRiXIAKV5Gj5",
        "outputId": "320d2589-337b-45f9-9f0f-cce249d3387e",
        "colab": {
          "base_uri": "https://localhost:8080/",
          "height": 34
        }
      },
      "source": [
        "print(tf.__version__)"
      ],
      "execution_count": 3,
      "outputs": [
        {
          "output_type": "stream",
          "text": [
            "2.3.0\n"
          ],
          "name": "stdout"
        }
      ]
    },
    {
      "cell_type": "code",
      "metadata": {
        "id": "h_s5NuaZ5a3b"
      },
      "source": [
        "from tensorflow.keras.datasets import fashion_mnist\n",
        "from tensorflow.keras import models,layers"
      ],
      "execution_count": 4,
      "outputs": []
    },
    {
      "cell_type": "code",
      "metadata": {
        "id": "gs9TDEZb6EVY",
        "outputId": "cf62923a-cd9e-497d-8705-d423f17faa32",
        "colab": {
          "base_uri": "https://localhost:8080/",
          "height": 153
        }
      },
      "source": [
        "(train_imgs,train_labels),(test_imgs,test_labels)=fashion_mnist.load_data()"
      ],
      "execution_count": 5,
      "outputs": [
        {
          "output_type": "stream",
          "text": [
            "Downloading data from https://storage.googleapis.com/tensorflow/tf-keras-datasets/train-labels-idx1-ubyte.gz\n",
            "32768/29515 [=================================] - 0s 0us/step\n",
            "Downloading data from https://storage.googleapis.com/tensorflow/tf-keras-datasets/train-images-idx3-ubyte.gz\n",
            "26427392/26421880 [==============================] - 0s 0us/step\n",
            "Downloading data from https://storage.googleapis.com/tensorflow/tf-keras-datasets/t10k-labels-idx1-ubyte.gz\n",
            "8192/5148 [===============================================] - 0s 0us/step\n",
            "Downloading data from https://storage.googleapis.com/tensorflow/tf-keras-datasets/t10k-images-idx3-ubyte.gz\n",
            "4423680/4422102 [==============================] - 0s 0us/step\n"
          ],
          "name": "stdout"
        }
      ]
    },
    {
      "cell_type": "code",
      "metadata": {
        "id": "RJ1Ax-rr6QUv",
        "outputId": "fe947dc5-406d-4a95-bb85-3e8cb482a0dc",
        "colab": {
          "base_uri": "https://localhost:8080/",
          "height": 34
        }
      },
      "source": [
        "train_imgs.shape"
      ],
      "execution_count": 6,
      "outputs": [
        {
          "output_type": "execute_result",
          "data": {
            "text/plain": [
              "(60000, 28, 28)"
            ]
          },
          "metadata": {
            "tags": []
          },
          "execution_count": 6
        }
      ]
    },
    {
      "cell_type": "code",
      "metadata": {
        "id": "MvXmtgWw6Vau",
        "outputId": "d080c00d-99ef-44f7-c7fe-affab7274918",
        "colab": {
          "base_uri": "https://localhost:8080/",
          "height": 34
        }
      },
      "source": [
        "test_imgs.shape"
      ],
      "execution_count": 7,
      "outputs": [
        {
          "output_type": "execute_result",
          "data": {
            "text/plain": [
              "(10000, 28, 28)"
            ]
          },
          "metadata": {
            "tags": []
          },
          "execution_count": 7
        }
      ]
    },
    {
      "cell_type": "code",
      "metadata": {
        "id": "eVwu_Vca6Zhp"
      },
      "source": [
        "from tensorflow.keras.utils import normalize\n",
        "\n",
        "train_imgs=normalize(train_imgs,axis=1)\n",
        "test_imgs=normalize(test_imgs,axis=1)"
      ],
      "execution_count": 8,
      "outputs": []
    },
    {
      "cell_type": "code",
      "metadata": {
        "id": "dQT4TAbx6xIA",
        "outputId": "0c817261-ce69-411c-8be5-7b0bd593a1f6",
        "colab": {
          "base_uri": "https://localhost:8080/",
          "height": 1000
        }
      },
      "source": [
        "train_imgs[1]"
      ],
      "execution_count": 9,
      "outputs": [
        {
          "output_type": "execute_result",
          "data": {
            "text/plain": [
              "array([[0.        , 0.        , 0.        , 0.        , 0.        ,\n",
              "        0.00163724, 0.        , 0.        , 0.        , 0.        ,\n",
              "        0.04180052, 0.18134076, 0.10028745, 0.05368613, 0.04603788,\n",
              "        0.04237663, 0.08378428, 0.16247149, 0.13003419, 0.01660002,\n",
              "        0.        , 0.        , 0.        , 0.        , 0.        ,\n",
              "        0.        , 0.        , 0.        ],\n",
              "       [0.        , 0.        , 0.        , 0.00499015, 0.        ,\n",
              "        0.        , 0.        , 0.07339813, 0.12962956, 0.20854845,\n",
              "        0.22021736, 0.2199239 , 0.22978485, 0.25351783, 0.24457622,\n",
              "        0.25130325, 0.24557461, 0.20985901, 0.21020565, 0.26352532,\n",
              "        0.2105115 , 0.2030959 , 0.07008266, 0.        , 0.        ,\n",
              "        0.        , 0.        , 0.        ],\n",
              "       [0.        , 0.        , 0.        , 0.        , 0.        ,\n",
              "        0.02292136, 0.27862859, 0.33253847, 0.2135075 , 0.20188251,\n",
              "        0.20696353, 0.19098655, 0.19083826, 0.19883751, 0.20621132,\n",
              "        0.2010426 , 0.19453361, 0.19438553, 0.19651784, 0.20853776,\n",
              "        0.19046279, 0.27671816, 0.34885592, 0.26037454, 0.        ,\n",
              "        0.        , 0.        , 0.        ],\n",
              "       [0.        , 0.        , 0.        , 0.        , 0.        ,\n",
              "        0.30780116, 0.34670262, 0.2995842 , 0.18872538, 0.19235975,\n",
              "        0.20186591, 0.19195112, 0.19375926, 0.1998317 , 0.18798799,\n",
              "        0.19512958, 0.19068146, 0.19341844, 0.19554014, 0.20750025,\n",
              "        0.18226104, 0.25513922, 0.3114785 , 0.35722117, 0.07334162,\n",
              "        0.        , 0.        , 0.        ],\n",
              "       [0.        , 0.        , 0.        , 0.        , 0.10034064,\n",
              "        0.35855561, 0.31504028, 0.30407797, 0.19349117, 0.20188251,\n",
              "        0.2426469 , 0.23921547, 0.24341615, 0.24357596, 0.23882148,\n",
              "        0.24243373, 0.23787031, 0.24370724, 0.24246977, 0.2438128 ,\n",
              "        0.18864018, 0.25767792, 0.31615067, 0.35245822, 0.25043481,\n",
              "        0.        , 0.        , 0.        ],\n",
              "       [0.        , 0.        , 0.        , 0.        , 0.22822577,\n",
              "        0.37001629, 0.3261221 , 0.30557589, 0.19730381, 0.19426431,\n",
              "        0.102972  , 0.07234339, 0.04576224, 0.07257569, 0.04603788,\n",
              "        0.04927515, 0.0433367 , 0.0493217 , 0.06159514, 0.11723764,\n",
              "        0.20230976, 0.25640857, 0.32082285, 0.34928292, 0.40069569,\n",
              "        0.        , 0.        , 0.        ],\n",
              "       [0.        , 0.        , 0.        , 0.        , 0.39349271,\n",
              "        0.36346733, 0.33087145, 0.30407797, 0.20492908, 0.1904552 ,\n",
              "        0.        , 0.0675205 , 0.09541913, 0.        , 0.09878961,\n",
              "        0.05814467, 0.06548656, 0.06866355, 0.04790733, 0.        ,\n",
              "        0.19957584, 0.26148597, 0.33328199, 0.33340642, 0.44720501,\n",
              "        0.12608105, 0.        , 0.        ],\n",
              "       [0.        , 0.        , 0.        , 0.        , 0.4859635 ,\n",
              "        0.35691837, 0.3356208 , 0.31456341, 0.20492908, 0.20378707,\n",
              "        0.        , 0.24500294, 0.2366005 , 0.13819207, 0.24457622,\n",
              "        0.17147751, 0.24172246, 0.24660851, 0.20042864, 0.        ,\n",
              "        0.19593062, 0.27544881, 0.33328199, 0.33023112, 0.39354041,\n",
              "        0.31520262, 0.        , 0.        ],\n",
              "       [0.        , 0.        , 0.        , 0.22455694, 0.44464676,\n",
              "        0.35036941, 0.33878703, 0.32205302, 0.2135075 , 0.19521658,\n",
              "        0.        , 0.0405123 , 0.03407826, 0.05965125, 0.01534596,\n",
              "        0.01675355, 0.01155645, 0.0125722 , 0.06843905, 0.        ,\n",
              "        0.17223668, 0.27417946, 0.33016721, 0.32705583, 0.37922985,\n",
              "        0.51759589, 0.        , 0.        ],\n",
              "       [0.        , 0.        , 0.        , 0.81838528, 0.46235393,\n",
              "        0.35036941, 0.33403768, 0.32954262, 0.20588223, 0.19140748,\n",
              "        0.05301529, 0.06848507, 0.08665615, 0.09345363, 0.07960716,\n",
              "        0.07686923, 0.06741264, 0.07349901, 0.08994846, 0.09026261,\n",
              "        0.18772887, 0.26275532, 0.34574113, 0.33816937, 0.39175159,\n",
              "        0.69012785, 0.        , 0.        ],\n",
              "       [0.        , 0.        , 0.        , 0.52895634, 0.36791568,\n",
              "        0.36510457, 0.37519873, 0.37148441, 0.20111644, 0.18855065,\n",
              "        0.25692025, 0.24114463, 0.24146882, 0.24357596, 0.23786236,\n",
              "        0.24834674, 0.24364854, 0.24177305, 0.24638058, 0.2479628 ,\n",
              "        0.18317235, 0.26910206, 0.35041331, 0.34134467, 0.34524227,\n",
              "        0.37492523, 0.        , 0.        ],\n",
              "       [0.        , 0.        , 0.        , 0.        , 0.        ,\n",
              "        0.02783308, 0.08548832, 0.23816944, 0.21160119, 0.18378927,\n",
              "        0.21206116, 0.18519908, 0.19181193, 0.19883751, 0.19182448,\n",
              "        0.19710059, 0.19260754, 0.19438553, 0.19847324, 0.20231275,\n",
              "        0.19137409, 0.20944264, 0.        , 0.        , 0.        ,\n",
              "        0.        , 0.        , 0.        ],\n",
              "       [0.        , 0.        , 0.        , 0.        , 0.        ,\n",
              "        0.        , 0.        , 0.07040229, 0.21446066, 0.18283699,\n",
              "        0.21817831, 0.19580944, 0.20057491, 0.20281426, 0.19566097,\n",
              "        0.20202811, 0.19838577, 0.19728681, 0.20727255, 0.20438775,\n",
              "        0.19866454, 0.13582038, 0.        , 0.        , 0.        ,\n",
              "        0.        , 0.        , 0.        ],\n",
              "       [0.        , 0.        , 0.        , 0.        , 0.00196746,\n",
              "        0.00982344, 0.        , 0.06890437, 0.2020696 , 0.18569382,\n",
              "        0.21613926, 0.19484486, 0.20057491, 0.20380845, 0.19566097,\n",
              "        0.20202811, 0.19838577, 0.19728681, 0.20727255, 0.20750025,\n",
              "        0.19866454, 0.11551079, 0.        , 0.00476295, 0.00178882,\n",
              "        0.        , 0.        , 0.        ],\n",
              "       [0.        , 0.        , 0.        , 0.        , 0.        ,\n",
              "        0.00163724, 0.        , 0.01647713, 0.18777222, 0.18950293,\n",
              "        0.20900258, 0.19484486, 0.19960124, 0.20480264, 0.19566097,\n",
              "        0.20202811, 0.1993488 , 0.19728681, 0.20042864, 0.21268776,\n",
              "        0.19866454, 0.0977399 , 0.        , 0.00793825, 0.        ,\n",
              "        0.        , 0.        , 0.        ],\n",
              "       [0.        , 0.        , 0.        , 0.        , 0.        ,\n",
              "        0.00491172, 0.        , 0.00299584, 0.18205327, 0.18855065,\n",
              "        0.20492448, 0.1977386 , 0.20057491, 0.20380845, 0.1966201 ,\n",
              "        0.20301361, 0.20127488, 0.199221  , 0.19456244, 0.21683777,\n",
              "        0.19957584, 0.09393185, 0.        , 0.00793825, 0.        ,\n",
              "        0.        , 0.        , 0.        ],\n",
              "       [0.        , 0.        , 0.        , 0.        , 0.        ,\n",
              "        0.00327448, 0.        , 0.        , 0.1791938 , 0.18759837,\n",
              "        0.20390496, 0.19966775, 0.20154857, 0.20281426, 0.19853834,\n",
              "        0.20399911, 0.20223792, 0.20115518, 0.19358474, 0.21476276,\n",
              "        0.20139845, 0.09139315, 0.        , 0.0063506 , 0.        ,\n",
              "        0.        , 0.        , 0.        ],\n",
              "       [0.        , 0.        , 0.        , 0.        , 0.        ,\n",
              "        0.00327448, 0.        , 0.        , 0.20492908, 0.18855065,\n",
              "        0.20696353, 0.19870317, 0.20252224, 0.20380845, 0.19853834,\n",
              "        0.20399911, 0.20223792, 0.20115518, 0.19554014, 0.20957526,\n",
              "        0.20230976, 0.0952012 , 0.        , 0.0063506 , 0.        ,\n",
              "        0.        , 0.        , 0.        ],\n",
              "       [0.        , 0.        , 0.        , 0.        , 0.        ,\n",
              "        0.00163724, 0.        , 0.        , 0.2020696 , 0.18855065,\n",
              "        0.21308068, 0.19870317, 0.2034959 , 0.20480264, 0.19949746,\n",
              "        0.20399911, 0.20320095, 0.199221  , 0.20042864, 0.20542525,\n",
              "        0.20139845, 0.10154795, 0.        , 0.00476295, 0.        ,\n",
              "        0.        , 0.        , 0.        ],\n",
              "       [0.        , 0.        , 0.        , 0.        , 0.        ,\n",
              "        0.00163724, 0.        , 0.        , 0.19444433, 0.19140748,\n",
              "        0.20900258, 0.20063233, 0.20154857, 0.20380845, 0.20237483,\n",
              "        0.20202811, 0.20223792, 0.20308936, 0.20433945, 0.20231275,\n",
              "        0.20139845, 0.12185754, 0.        , 0.00476295, 0.        ,\n",
              "        0.        , 0.        , 0.        ],\n",
              "       [0.        , 0.        , 0.        , 0.        , 0.        ,\n",
              "        0.00163724, 0.        , 0.        , 0.19253802, 0.19140748,\n",
              "        0.20900258, 0.20159691, 0.20154857, 0.20380845, 0.20429307,\n",
              "        0.20301361, 0.20223792, 0.20212227, 0.20531715, 0.20127525,\n",
              "        0.19775323, 0.13328168, 0.        , 0.0031753 , 0.        ,\n",
              "        0.        , 0.        , 0.        ],\n",
              "       [0.        , 0.        , 0.        , 0.        , 0.        ,\n",
              "        0.00163724, 0.        , 0.        , 0.19444433, 0.19426431,\n",
              "        0.20900258, 0.20063233, 0.20154857, 0.20380845, 0.20621132,\n",
              "        0.20399911, 0.20223792, 0.20115518, 0.20629485, 0.20023775,\n",
              "        0.19410801, 0.14597518, 0.        , 0.0031753 , 0.        ,\n",
              "        0.        , 0.        , 0.        ],\n",
              "       [0.        , 0.        , 0.        , 0.        , 0.        ,\n",
              "        0.        , 0.        , 0.        , 0.19444433, 0.19712113,\n",
              "        0.21104163, 0.20063233, 0.20057491, 0.20480264, 0.20621132,\n",
              "        0.20695562, 0.20223792, 0.20018809, 0.20727255, 0.20231275,\n",
              "        0.19137409, 0.14978322, 0.        , 0.0031753 , 0.        ,\n",
              "        0.        , 0.        , 0.        ],\n",
              "       [0.        , 0.        , 0.        , 0.        , 0.        ,\n",
              "        0.00163724, 0.        , 0.        , 0.18872538, 0.19807341,\n",
              "        0.21206116, 0.20063233, 0.19862758, 0.20579683, 0.20333395,\n",
              "        0.20892663, 0.20223792, 0.20018809, 0.20629485, 0.20335025,\n",
              "        0.18864018, 0.15359127, 0.        , 0.00158765, 0.        ,\n",
              "        0.        , 0.        , 0.        ],\n",
              "       [0.        , 0.        , 0.        , 0.        , 0.        ,\n",
              "        0.00163724, 0.        , 0.        , 0.18872538, 0.19997796,\n",
              "        0.21104163, 0.20063233, 0.20057491, 0.2077852 , 0.20429307,\n",
              "        0.20892663, 0.20320095, 0.20018809, 0.20531715, 0.20438775,\n",
              "        0.18864018, 0.15739932, 0.        , 0.00158765, 0.        ,\n",
              "        0.        , 0.        , 0.        ],\n",
              "       [0.        , 0.        , 0.        , 0.        , 0.        ,\n",
              "        0.        , 0.        , 0.        , 0.16394326, 0.19997796,\n",
              "        0.20696353, 0.19388028, 0.19375926, 0.20281426, 0.19853834,\n",
              "        0.20202811, 0.19645969, 0.19438553, 0.20042864, 0.20438775,\n",
              "        0.18772887, 0.16120737, 0.        , 0.        , 0.        ,\n",
              "        0.        , 0.        , 0.        ],\n",
              "       [0.        , 0.        , 0.        , 0.        , 0.        ,\n",
              "        0.        , 0.        , 0.        , 0.1791938 , 0.210453  ,\n",
              "        0.21817831, 0.22571137, 0.22978485, 0.23661664, 0.23402587,\n",
              "        0.24046272, 0.2349812 , 0.23210213, 0.23758127, 0.22202527,\n",
              "        0.20413237, 0.2056346 , 0.        , 0.0031753 , 0.        ,\n",
              "        0.        , 0.        , 0.        ],\n",
              "       [0.        , 0.        , 0.        , 0.        , 0.        ,\n",
              "        0.00163724, 0.        , 0.        , 0.13248903, 0.1390323 ,\n",
              "        0.13253822, 0.1302181 , 0.13144472, 0.1362037 , 0.1198903 ,\n",
              "        0.12220237, 0.12037971, 0.11701816, 0.11634638, 0.11827514,\n",
              "        0.11846968, 0.09647055, 0.        , 0.        , 0.        ,\n",
              "        0.        , 0.        , 0.        ]])"
            ]
          },
          "metadata": {
            "tags": []
          },
          "execution_count": 9
        }
      ]
    },
    {
      "cell_type": "code",
      "metadata": {
        "id": "BjdhvILz62m_"
      },
      "source": [
        "mymodel=models.Sequential()\n",
        "mymodel.add(layers.Flatten())\n",
        "mymodel.add(layers.Dense(512,activation='relu'))\n",
        "mymodel.add(layers.Dense(64,activation='relu'))\n",
        "mymodel.add(layers.Dense(10,activation='softmax'))"
      ],
      "execution_count": 10,
      "outputs": []
    },
    {
      "cell_type": "code",
      "metadata": {
        "id": "I3wGOppR75en"
      },
      "source": [
        "mymodel.compile(optimizer='adam',\n",
        "                loss='sparse_categorical_crossentropy',\n",
        "                metrics=['accuracy'])"
      ],
      "execution_count": 11,
      "outputs": []
    },
    {
      "cell_type": "code",
      "metadata": {
        "id": "cbFlTRZ78M5g",
        "outputId": "149a5680-6e46-4beb-8df7-1bf9e4b540fd",
        "colab": {
          "base_uri": "https://localhost:8080/",
          "height": 374
        }
      },
      "source": [
        "mymodel.fit(train_imgs,train_labels,epochs=10,validation_split=0.2,batch_size=50)"
      ],
      "execution_count": 12,
      "outputs": [
        {
          "output_type": "stream",
          "text": [
            "Epoch 1/10\n",
            "960/960 [==============================] - 6s 6ms/step - loss: 0.4886 - accuracy: 0.8197 - val_loss: 0.3857 - val_accuracy: 0.8574\n",
            "Epoch 2/10\n",
            "960/960 [==============================] - 6s 6ms/step - loss: 0.3586 - accuracy: 0.8672 - val_loss: 0.3632 - val_accuracy: 0.8716\n",
            "Epoch 3/10\n",
            "960/960 [==============================] - 6s 6ms/step - loss: 0.3159 - accuracy: 0.8825 - val_loss: 0.3342 - val_accuracy: 0.8779\n",
            "Epoch 4/10\n",
            "960/960 [==============================] - 5s 6ms/step - loss: 0.2926 - accuracy: 0.8891 - val_loss: 0.3304 - val_accuracy: 0.8799\n",
            "Epoch 5/10\n",
            "960/960 [==============================] - 5s 6ms/step - loss: 0.2751 - accuracy: 0.8967 - val_loss: 0.3211 - val_accuracy: 0.8816\n",
            "Epoch 6/10\n",
            "960/960 [==============================] - 5s 6ms/step - loss: 0.2560 - accuracy: 0.9024 - val_loss: 0.3146 - val_accuracy: 0.8873\n",
            "Epoch 7/10\n",
            "960/960 [==============================] - 5s 6ms/step - loss: 0.2414 - accuracy: 0.9083 - val_loss: 0.3155 - val_accuracy: 0.8842\n",
            "Epoch 8/10\n",
            "960/960 [==============================] - 6s 6ms/step - loss: 0.2305 - accuracy: 0.9129 - val_loss: 0.3153 - val_accuracy: 0.8829\n",
            "Epoch 9/10\n",
            "960/960 [==============================] - 6s 6ms/step - loss: 0.2175 - accuracy: 0.9183 - val_loss: 0.3133 - val_accuracy: 0.8884\n",
            "Epoch 10/10\n",
            "960/960 [==============================] - 6s 6ms/step - loss: 0.2063 - accuracy: 0.9217 - val_loss: 0.3134 - val_accuracy: 0.8883\n"
          ],
          "name": "stdout"
        },
        {
          "output_type": "execute_result",
          "data": {
            "text/plain": [
              "<tensorflow.python.keras.callbacks.History at 0x7fd4cd1d9ba8>"
            ]
          },
          "metadata": {
            "tags": []
          },
          "execution_count": 12
        }
      ]
    },
    {
      "cell_type": "code",
      "metadata": {
        "id": "OBAizzcT8i6i",
        "outputId": "8c200a2a-e576-43d1-cc7b-a3e97db053c8",
        "colab": {
          "base_uri": "https://localhost:8080/",
          "height": 34
        }
      },
      "source": [
        "loss,acc=mymodel.evaluate(test_imgs,test_labels)"
      ],
      "execution_count": 13,
      "outputs": [
        {
          "output_type": "stream",
          "text": [
            "313/313 [==============================] - 1s 2ms/step - loss: 0.3358 - accuracy: 0.8847\n"
          ],
          "name": "stdout"
        }
      ]
    },
    {
      "cell_type": "code",
      "metadata": {
        "id": "itDBYniu8-nc",
        "outputId": "625807f4-5cb6-4d00-909a-5374bb0c9f9c",
        "colab": {
          "base_uri": "https://localhost:8080/",
          "height": 71
        }
      },
      "source": [
        "predict=mymodel.predict([test_imgs])"
      ],
      "execution_count": 14,
      "outputs": [
        {
          "output_type": "stream",
          "text": [
            "WARNING:tensorflow:Layers in a Sequential model should only have a single input tensor, but we receive a <class 'tuple'> input: (<tf.Tensor 'IteratorGetNext:0' shape=(None, 28, 28) dtype=float32>,)\n",
            "Consider rewriting this model with the Functional API.\n"
          ],
          "name": "stdout"
        }
      ]
    },
    {
      "cell_type": "code",
      "metadata": {
        "id": "kr21trEf9PS6",
        "outputId": "0e9ef606-8c3d-4cde-aa1e-1ae38465b2db",
        "colab": {
          "base_uri": "https://localhost:8080/",
          "height": 282
        }
      },
      "source": [
        "print(np.argmax(predict[145]))\n",
        "\n",
        "plt.imshow(test_imgs[145])\n",
        "plt.show()"
      ],
      "execution_count": 15,
      "outputs": [
        {
          "output_type": "stream",
          "text": [
            "6\n"
          ],
          "name": "stdout"
        },
        {
          "output_type": "display_data",
          "data": {
            "image/png": "[encoded data removed]",
            "text/plain": [
              "<Figure size 432x288 with 1 Axes>"
            ]
          },
          "metadata": {
            "tags": [],
            "needs_background": "light"
          }
        }
      ]
    },
    {
      "cell_type": "code",
      "metadata": {
        "id": "bcSr7S119-5e",
        "outputId": "6de8246c-cccc-476b-b5ec-21de4e2f1c29",
        "colab": {
          "base_uri": "https://localhost:8080/",
          "height": 282
        }
      },
      "source": [
        "print(np.argmax(predict[10]))\n",
        "\n",
        "plt.imshow(test_imgs[10],cmap=plt.cm.binary)\n",
        "plt.show()"
      ],
      "execution_count": 17,
      "outputs": [
        {
          "output_type": "stream",
          "text": [
            "4\n"
          ],
          "name": "stdout"
        },
        {
          "output_type": "display_data",
          "data": {
            "image/png": "[encoded data removed]",
            "text/plain": [
              "<Figure size 432x288 with 1 Axes>"
            ]
          },
          "metadata": {
            "tags": [],
            "needs_background": "light"
          }
        }
      ]
    },
    {
      "cell_type": "code",
      "metadata": {
        "id": "TKfrWB-Z-Syh",
        "outputId": "8ecd86a6-45fd-468f-9ede-374eb909d78b",
        "colab": {
          "base_uri": "https://localhost:8080/",
          "height": 282
        }
      },
      "source": [
        "print(np.argmax(predict[1448]))\n",
        "\n",
        "plt.imshow(test_imgs[1448])\n",
        "plt.show()"
      ],
      "execution_count": 18,
      "outputs": [
        {
          "output_type": "stream",
          "text": [
            "5\n"
          ],
          "name": "stdout"
        },
        {
          "output_type": "display_data",
          "data": {
            "image/png": "[encoded data removed]",
            "text/plain": [
              "<Figure size 432x288 with 1 Axes>"
            ]
          },
          "metadata": {
            "tags": [],
            "needs_background": "light"
          }
        }
      ]
    },
    {
      "cell_type": "code",
      "metadata": {
        "id": "mYi4p3Aa-d_F",
        "outputId": "5898aacd-f6a0-465e-b35f-2ab1c58a0af5",
        "colab": {
          "base_uri": "https://localhost:8080/",
          "height": 282
        }
      },
      "source": [
        "print(np.argmax(predict[0]))\n",
        "\n",
        "plt.imshow(test_imgs[0])\n",
        "plt.show()"
      ],
      "execution_count": 19,
      "outputs": [
        {
          "output_type": "stream",
          "text": [
            "9\n"
          ],
          "name": "stdout"
        },
        {
          "output_type": "display_data",
          "data": {
            "image/png": "[encoded data removed]",
            "text/plain": [
              "<Figure size 432x288 with 1 Axes>"
            ]
          },
          "metadata": {
            "tags": [],
            "needs_background": "light"
          }
        }
      ]
    },
    {
      "cell_type": "markdown",
      "metadata": {
        "id": "eT1VaVm4_4bK"
      },
      "source": [
        "NOW using Convolutional neural network for same dataset"
      ]
    },
    {
      "cell_type": "code",
      "metadata": {
        "id": "2dpOwwsh-9MC",
        "outputId": "46601b28-1296-4aa8-e0dd-d133b0422eb8",
        "colab": {
          "base_uri": "https://localhost:8080/",
          "height": 34
        }
      },
      "source": [
        "train_imgs[0].shape"
      ],
      "execution_count": 20,
      "outputs": [
        {
          "output_type": "execute_result",
          "data": {
            "text/plain": [
              "(28, 28)"
            ]
          },
          "metadata": {
            "tags": []
          },
          "execution_count": 20
        }
      ]
    },
    {
      "cell_type": "code",
      "metadata": {
        "id": "krgGmXwBAYC4"
      },
      "source": [
        "train_imgs2=train_imgs.reshape(train_imgs.shape[0],train_imgs[0].shape[0],train_imgs[0].shape[1],1)\n",
        "test_imgs2=test_imgs.reshape(test_imgs.shape[0],test_imgs[0].shape[0],test_imgs[0].shape[1],1)"
      ],
      "execution_count": 21,
      "outputs": []
    },
    {
      "cell_type": "code",
      "metadata": {
        "id": "51KewDIRBJ7L",
        "outputId": "c74c62af-b7b0-433a-aecd-7a1db8dfef0b",
        "colab": {
          "base_uri": "https://localhost:8080/",
          "height": 34
        }
      },
      "source": [
        "train_imgs2.shape"
      ],
      "execution_count": 22,
      "outputs": [
        {
          "output_type": "execute_result",
          "data": {
            "text/plain": [
              "(60000, 28, 28, 1)"
            ]
          },
          "metadata": {
            "tags": []
          },
          "execution_count": 22
        }
      ]
    },
    {
      "cell_type": "code",
      "metadata": {
        "id": "W_y2c0vjBQFu"
      },
      "source": [
        "cnnmodel=models.Sequential()\n",
        "cnnmodel.add(layers.Conv2D(64,(3,3),activation='relu',input_shape=(28,28,1)))\n",
        "cnnmodel.add(layers.MaxPooling2D(pool_size=(2,2)))\n",
        "cnnmodel.add(layers.Conv2D(32,(3,3),activation='relu'))\n",
        "cnnmodel.add(layers.MaxPooling2D(pool_size=(2,2)))\n",
        "cnnmodel.add(layers.Flatten())\n",
        "cnnmodel.add(layers.Dense(64,activation='relu'))\n",
        "cnnmodel.add(layers.Dense(10,activation='softmax'))"
      ],
      "execution_count": 33,
      "outputs": []
    },
    {
      "cell_type": "code",
      "metadata": {
        "id": "4fx9ZQE1BTQm"
      },
      "source": [
        "cnnmodel.compile(optimizer='adam',loss='sparse_categorical_crossentropy',metrics=['acc'])"
      ],
      "execution_count": 34,
      "outputs": []
    },
    {
      "cell_type": "code",
      "metadata": {
        "id": "TmJhuzTIDAbk",
        "outputId": "602e1857-69c6-4b53-c607-1a61745a4f30",
        "colab": {
          "base_uri": "https://localhost:8080/",
          "height": 170
        }
      },
      "source": [
        "cnnmodel.fit(train_imgs2,train_labels,epochs=4,validation_split=0.3,batch_size=10)"
      ],
      "execution_count": 35,
      "outputs": [
        {
          "output_type": "stream",
          "text": [
            "Epoch 1/4\n",
            "4200/4200 [==============================] - 64s 15ms/step - loss: 0.4926 - acc: 0.8179 - val_loss: 0.3641 - val_acc: 0.8640\n",
            "Epoch 2/4\n",
            "4200/4200 [==============================] - 63s 15ms/step - loss: 0.3430 - acc: 0.8719 - val_loss: 0.3360 - val_acc: 0.8743\n",
            "Epoch 3/4\n",
            "4200/4200 [==============================] - 63s 15ms/step - loss: 0.2990 - acc: 0.8888 - val_loss: 0.3232 - val_acc: 0.8813\n",
            "Epoch 4/4\n",
            "4200/4200 [==============================] - 63s 15ms/step - loss: 0.2696 - acc: 0.8985 - val_loss: 0.3090 - val_acc: 0.8849\n"
          ],
          "name": "stdout"
        },
        {
          "output_type": "execute_result",
          "data": {
            "text/plain": [
              "<tensorflow.python.keras.callbacks.History at 0x7fd4c65b27f0>"
            ]
          },
          "metadata": {
            "tags": []
          },
          "execution_count": 35
        }
      ]
    },
    {
      "cell_type": "code",
      "metadata": {
        "id": "2zyzfxGgDU_u"
      },
      "source": [
        ""
      ],
      "execution_count": null,
      "outputs": []
    }
  ]
}